{
 "cells": [
  {
   "cell_type": "code",
   "execution_count": 1,
   "id": "1fb46534-930a-428f-8d9e-9ac9fee3156d",
   "metadata": {},
   "outputs": [],
   "source": [
    "import numpy as np"
   ]
  },
  {
   "cell_type": "code",
   "execution_count": 2,
   "id": "43316a9d-2ce0-4746-bc5e-ae168104f25e",
   "metadata": {},
   "outputs": [],
   "source": [
    "from absorbing_markov_chain.absorbing_markov_chain import AbsorbingMarkovChain"
   ]
  },
  {
   "cell_type": "markdown",
   "id": "81f6bbb9-3d8b-4e30-9fee-047d9ed0e5ab",
   "metadata": {},
   "source": [
    "The game of Snakes and Ladders is memorylessness/has the Markov property: at a given point in the game, the player's progression from the current square is independent of how they arrived at that square."
   ]
  },
  {
   "cell_type": "code",
   "execution_count": null,
   "id": "8e031f69-c36e-4267-a322-469478499bdc",
   "metadata": {},
   "outputs": [],
   "source": [
    "https://scipython.com/book/chapter-6-numpy/additional-problems/analysing-snakes-and-ladders-as-a-markov-chain/"
   ]
  },
  {
   "cell_type": "markdown",
   "id": "cf579bd2-dcee-405b-b1fe-75839e7cfed3",
   "metadata": {},
   "source": [
    "- The board has squares 0 to 100. \n",
    "- Player rolls a single die upon each turn\n",
    "- First player to reach square 100 wins the game\n",
    "- So square 100 is an absorbing state"
   ]
  },
  {
   "cell_type": "markdown",
   "id": "12f7428c-ee7a-4f50-8854-c357788423f3",
   "metadata": {},
   "source": [
    "Every time a player rolls the die, there are 6 possible options each with probability $\\frac{1}{6}$. Imagine a player starting from square 0. Then the probability vector for this square is:"
   ]
  },
  {
   "cell_type": "markdown",
   "id": "6f67c07f-e132-42d8-804b-6de65becb601",
   "metadata": {},
   "source": [
    "What does the matrix $P$ look like?"
   ]
  },
  {
   "cell_type": "markdown",
   "id": "4f393864-0521-4156-bd51-59e87ee40667",
   "metadata": {},
   "source": [
    "$$P=\\left\\lbrack \\matrix{\n",
    "     p_{1,1} & p_{1,2} & \\cdots & p_{1,N} \\cr\n",
    "     p_{2,1} & p_{2,2} & \\cdots & p_{2,N} \\cr\n",
    "     \\vdots & \\vdots & \\ddots & \\vdots \\cr\n",
    "     p_{N,1} & p_{N,2} & \\cdots & p_{N,N}\n",
    " } \\right\\rbrack$$ \n"
   ]
  },
  {
   "cell_type": "markdown",
   "id": "22e74e8f-dfd3-4e17-9787-f8dca66e56d7",
   "metadata": {},
   "source": [
    "Let's make the matrix using numpy"
   ]
  },
  {
   "cell_type": "code",
   "execution_count": null,
   "id": "4f4fc3de-caf5-4940-9519-2e85be05efab",
   "metadata": {},
   "outputs": [],
   "source": []
  }
 ],
 "metadata": {
  "kernelspec": {
   "display_name": "absorbing_markov_chain",
   "language": "python",
   "name": "absorbing_markov_chain"
  },
  "language_info": {
   "codemirror_mode": {
    "name": "ipython",
    "version": 3
   },
   "file_extension": ".py",
   "mimetype": "text/x-python",
   "name": "python",
   "nbconvert_exporter": "python",
   "pygments_lexer": "ipython3",
   "version": "3.12.2"
  }
 },
 "nbformat": 4,
 "nbformat_minor": 5
}
