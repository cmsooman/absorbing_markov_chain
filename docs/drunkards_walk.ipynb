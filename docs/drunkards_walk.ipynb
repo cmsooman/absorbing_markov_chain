{
 "cells": [
  {
   "cell_type": "markdown",
   "id": "a1b1fe00-59b0-42df-9869-f87bec1a9863",
   "metadata": {},
   "source": [
    "A relatively simple example of an abosrbing Markov chain is the Drunkard's walk. The drunkard is always at one of $n$ intersections between his house and the pub. He wants to go home, but could also end up in the pub. If he goes home or to the pub then he will stay there. But at each of the $n$ intersections inbetween his house and the pub, there is the probabilty $p=\\frac{1}{2}$ that his alcohol consumption leads to confusion and that he ends up back at the previous intersection.\n",
    "\n",
    "Let's keep things relatively simple and take the case $n=3$. We know that there are two absorbing states for te drunkard being home or in the pub; these obviously have probability $p=1$. For simplicity, we make the two absorbing states the 4th and 5th states respectively."
   ]
  },
  {
   "cell_type": "markdown",
   "id": "c78dc757-d915-4c85-967e-b00525bd4e33",
   "metadata": {},
   "source": [
    "First define the canonical matrix:"
   ]
  },
  {
   "cell_type": "code",
   "execution_count": 9,
   "id": "441c77f3-2289-4d45-a3b2-61641c8bffe5",
   "metadata": {},
   "outputs": [
    {
     "name": "stdout",
     "output_type": "stream",
     "text": [
      "[[0.  0.5 0.  0.5 0. ]\n",
      " [0.5 0.  0.5 0.  0. ]\n",
      " [0.  0.5 0.  0.  0.5]\n",
      " [0.  0.  0.  1.  0. ]\n",
      " [0.  0.  0.  0.  1. ]]\n"
     ]
    }
   ],
   "source": [
    "import numpy as np\n",
    "P = np.array([\n",
    "            [0, 0.5, 0, 0.5, 0],\n",
    "            [0.5, 0, 0.5, 0, 0],\n",
    "            [0, 0.5, 0, 0, 0.5],\n",
    "            [0, 0, 0, 1, 0],\n",
    "            [0, 0, 0, 0, 1] ] )\n",
    "print(P)"
   ]
  },
  {
   "cell_type": "markdown",
   "id": "e798f9ba-6a9f-4f4a-9748-8f75fd34dea5",
   "metadata": {},
   "source": [
    "Next we import the class:"
   ]
  },
  {
   "cell_type": "code",
   "execution_count": 1,
   "id": "073b500c-c959-4a9a-aabc-5c773619ebe4",
   "metadata": {},
   "outputs": [],
   "source": [
    "from absorbing_markov_chain.absorbing_markov_chain import AbsorbingMarkovChain"
   ]
  },
  {
   "cell_type": "markdown",
   "id": "589bf624-e3d8-4394-8971-e18ff5f6facf",
   "metadata": {},
   "source": [
    "Then define the object with 2 absorbing states for the canonical matrix $P$:"
   ]
  },
  {
   "cell_type": "code",
   "execution_count": 4,
   "id": "c88cd7af-c1f4-4a4c-870f-ba604a33d389",
   "metadata": {},
   "outputs": [],
   "source": [
    "drunkards_walk = AbsorbingMarkovChain(2,P)"
   ]
  },
  {
   "cell_type": "markdown",
   "id": "ad9382b5-db7a-417d-93e0-c7d63c06c1e6",
   "metadata": {},
   "source": [
    "The matrix $Q$ representing transient states:"
   ]
  },
  {
   "cell_type": "code",
   "execution_count": 5,
   "id": "9716d113-447f-45f5-a81d-6f345b1252e9",
   "metadata": {},
   "outputs": [],
   "source": [
    "Q = drunkards_walk.transient_matrix()"
   ]
  },
  {
   "cell_type": "code",
   "execution_count": 6,
   "id": "1b8235f1-4dd4-44d7-8275-f702c682ec6c",
   "metadata": {},
   "outputs": [
    {
     "name": "stdout",
     "output_type": "stream",
     "text": [
      "[[0.  0.5 0. ]\n",
      " [0.5 0.  0.5]\n",
      " [0.  0.5 0. ]]\n"
     ]
    }
   ],
   "source": [
    "print(Q)"
   ]
  },
  {
   "cell_type": "markdown",
   "id": "b31cd779-7fce-4061-93be-2d4e1cddb246",
   "metadata": {},
   "source": [
    "The fundemental matrix $F$:"
   ]
  },
  {
   "cell_type": "code",
   "execution_count": 7,
   "id": "c66fe64c-701e-4ddf-af77-f7bb695b28fb",
   "metadata": {},
   "outputs": [],
   "source": [
    "F = drunkards_walk.fundamental_matrix()"
   ]
  },
  {
   "cell_type": "code",
   "execution_count": 8,
   "id": "aa76fafa-c340-413c-975b-968b2f171f59",
   "metadata": {},
   "outputs": [
    {
     "name": "stdout",
     "output_type": "stream",
     "text": [
      "[[1.5 1.  0.5]\n",
      " [1.  2.  1. ]\n",
      " [0.5 1.  1.5]]\n"
     ]
    }
   ],
   "source": [
    "print(F)"
   ]
  },
  {
   "cell_type": "markdown",
   "id": "4075532a-f1a9-49eb-8971-e2ad78dee143",
   "metadata": {},
   "source": [
    "Calculate the expected number of steps before being absorbed in any absorbing state when starting in a transient states $i = 1,2,3$:"
   ]
  },
  {
   "cell_type": "code",
   "execution_count": 10,
   "id": "7a9e9915-59fb-49ac-b2ae-f3b7bf2c7ef7",
   "metadata": {},
   "outputs": [],
   "source": [
    "absorb_times = drunkards_walk.absorb_times()"
   ]
  },
  {
   "cell_type": "code",
   "execution_count": 11,
   "id": "bd601b23-9e27-406f-a573-6082ab21f7e0",
   "metadata": {},
   "outputs": [
    {
     "name": "stdout",
     "output_type": "stream",
     "text": [
      "[3. 4. 3.]\n"
     ]
    }
   ],
   "source": [
    "print(absorb_times)"
   ]
  },
  {
   "cell_type": "markdown",
   "id": "046e3c6d-516b-4743-9c1f-13f8429eb809",
   "metadata": {},
   "source": [
    "Calculate the probability of being absorbed in either of the absorbing states when starting in a transient state $i=1,2,3$:"
   ]
  },
  {
   "cell_type": "code",
   "execution_count": 12,
   "id": "e6b17595-d354-4765-8491-5a29a4e5c776",
   "metadata": {},
   "outputs": [],
   "source": [
    "absorb_probs = drunkards_walk.absorb_probs()"
   ]
  },
  {
   "cell_type": "code",
   "execution_count": 14,
   "id": "219ca7a2-ceaa-4659-ba7c-b66ed783d2bf",
   "metadata": {},
   "outputs": [
    {
     "name": "stdout",
     "output_type": "stream",
     "text": [
      "[[0.75 0.25]\n",
      " [0.5  0.5 ]\n",
      " [0.25 0.75]]\n"
     ]
    }
   ],
   "source": [
    "print(absorb_probs)"
   ]
  },
  {
   "cell_type": "code",
   "execution_count": null,
   "id": "4184f161-90d3-47f3-a602-a4eac4d7cacb",
   "metadata": {},
   "outputs": [],
   "source": []
  }
 ],
 "metadata": {
  "kernelspec": {
   "display_name": "absorbing_markov_chain",
   "language": "python",
   "name": "absorbing_markov_chain"
  },
  "language_info": {
   "codemirror_mode": {
    "name": "ipython",
    "version": 3
   },
   "file_extension": ".py",
   "mimetype": "text/x-python",
   "name": "python",
   "nbconvert_exporter": "python",
   "pygments_lexer": "ipython3",
   "version": "3.12.2"
  }
 },
 "nbformat": 4,
 "nbformat_minor": 5
}
