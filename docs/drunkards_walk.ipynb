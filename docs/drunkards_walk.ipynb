{
 "cells": [
  {
   "cell_type": "markdown",
   "id": "a1b1fe00-59b0-42df-9869-f87bec1a9863",
   "metadata": {},
   "source": [
    "A relatively simple example of an abosrbing Markov chain is the Drunkard's walk. The drunkard is always at one of $n$ intersections between his house and the pub. He wants to go home, but could also end up in the pub. If he goes home or to the pub then he will stay there. But at each of the $n$ intersections inbetween his house and the pub, there is the probabilty $p=\\frac{1}{2}$ that his alcohol consumption leads to confusion and that he ends up back at the previous intersection.\n",
    "\n",
    "Let's keep things relatively simple and take the case $n=3$. We know that there are two absorbing states for te drunkard being home or in the pub; these obviously have probability $p=1$. For simplicity, we make the two absorbing states the 4th and 5th states respectively."
   ]
  },
  {
   "cell_type": "code",
   "execution_count": 4,
   "id": "441c77f3-2289-4d45-a3b2-61641c8bffe5",
   "metadata": {},
   "outputs": [],
   "source": [
    "import numpy as np\n",
    "P = np.array([\n",
    "            [0, 0.5, 0, 0.5, 0],\n",
    "            [0.5, 0, 0.5, 0, 0],\n",
    "            [0, 0.5, 0, 0, 0.5],\n",
    "            [0, 0, 0, 1, 0],\n",
    "            [0, 0, 0, 0, 1] ] )"
   ]
  },
  {
   "cell_type": "code",
   "execution_count": 5,
   "id": "d602fc47-9e8a-4982-a43b-853bc69f03e6",
   "metadata": {},
   "outputs": [
    {
     "data": {
      "text/plain": [
       "array([[0. , 0.5, 0. , 0.5, 0. ],\n",
       "       [0.5, 0. , 0.5, 0. , 0. ],\n",
       "       [0. , 0.5, 0. , 0. , 0.5],\n",
       "       [0. , 0. , 0. , 1. , 0. ],\n",
       "       [0. , 0. , 0. , 0. , 1. ]])"
      ]
     },
     "execution_count": 5,
     "metadata": {},
     "output_type": "execute_result"
    }
   ],
   "source": [
    "P"
   ]
  },
  {
   "cell_type": "code",
   "execution_count": 7,
   "id": "073b500c-c959-4a9a-aabc-5c773619ebe4",
   "metadata": {},
   "outputs": [],
   "source": [
    "from absorbing_markov_chain.absorbing_markov_chain import AbsorbingMarkovChain"
   ]
  },
  {
   "cell_type": "code",
   "execution_count": 8,
   "id": "c88cd7af-c1f4-4a4c-870f-ba604a33d389",
   "metadata": {},
   "outputs": [],
   "source": [
    "drunkards_walk = AbsorbingMarkovChain(2,P)"
   ]
  },
  {
   "cell_type": "code",
   "execution_count": 14,
   "id": "9716d113-447f-45f5-a81d-6f345b1252e9",
   "metadata": {},
   "outputs": [],
   "source": [
    "Q = drunkards_walk.transient_matrix()"
   ]
  },
  {
   "cell_type": "code",
   "execution_count": 15,
   "id": "1b8235f1-4dd4-44d7-8275-f702c682ec6c",
   "metadata": {},
   "outputs": [
    {
     "data": {
      "text/plain": [
       "array([[0. , 0.5, 0. ],\n",
       "       [0.5, 0. , 0.5],\n",
       "       [0. , 0.5, 0. ]])"
      ]
     },
     "execution_count": 15,
     "metadata": {},
     "output_type": "execute_result"
    }
   ],
   "source": [
    "Q"
   ]
  },
  {
   "cell_type": "code",
   "execution_count": 10,
   "id": "c66fe64c-701e-4ddf-af77-f7bb695b28fb",
   "metadata": {},
   "outputs": [],
   "source": [
    "F = drunkards_walk.fundamental_matrix()"
   ]
  },
  {
   "cell_type": "code",
   "execution_count": 11,
   "id": "aa76fafa-c340-413c-975b-968b2f171f59",
   "metadata": {},
   "outputs": [
    {
     "data": {
      "text/plain": [
       "array([[1.5, 1. , 0.5],\n",
       "       [1. , 2. , 1. ],\n",
       "       [0.5, 1. , 1.5]])"
      ]
     },
     "execution_count": 11,
     "metadata": {},
     "output_type": "execute_result"
    }
   ],
   "source": [
    "F"
   ]
  },
  {
   "cell_type": "code",
   "execution_count": 16,
   "id": "7a9e9915-59fb-49ac-b2ae-f3b7bf2c7ef7",
   "metadata": {},
   "outputs": [
    {
     "data": {
      "text/plain": [
       "array([3., 4., 3.])"
      ]
     },
     "execution_count": 16,
     "metadata": {},
     "output_type": "execute_result"
    }
   ],
   "source": [
    "drunkards_walk.absorb_times()"
   ]
  },
  {
   "cell_type": "code",
   "execution_count": 17,
   "id": "e6b17595-d354-4765-8491-5a29a4e5c776",
   "metadata": {},
   "outputs": [
    {
     "data": {
      "text/plain": [
       "array([[0.75, 0.25],\n",
       "       [0.5 , 0.5 ],\n",
       "       [0.25, 0.75]])"
      ]
     },
     "execution_count": 17,
     "metadata": {},
     "output_type": "execute_result"
    }
   ],
   "source": [
    "drunkards_walk.absorb_probs()"
   ]
  },
  {
   "cell_type": "code",
   "execution_count": null,
   "id": "219ca7a2-ceaa-4659-ba7c-b66ed783d2bf",
   "metadata": {},
   "outputs": [],
   "source": []
  }
 ],
 "metadata": {
  "kernelspec": {
   "display_name": "absorbing_markov_chain",
   "language": "python",
   "name": "absorbing_markov_chain"
  },
  "language_info": {
   "codemirror_mode": {
    "name": "ipython",
    "version": 3
   },
   "file_extension": ".py",
   "mimetype": "text/x-python",
   "name": "python",
   "nbconvert_exporter": "python",
   "pygments_lexer": "ipython3",
   "version": "3.12.2"
  }
 },
 "nbformat": 4,
 "nbformat_minor": 5
}
